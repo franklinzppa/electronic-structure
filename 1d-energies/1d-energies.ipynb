{
 "cells": [
  {
   "cell_type": "code",
   "execution_count": 73,
   "id": "2bd107b0",
   "metadata": {
    "ExecuteTime": {
     "end_time": "2023-04-27T22:46:06.847572Z",
     "start_time": "2023-04-27T22:46:06.839426Z"
    }
   },
   "outputs": [],
   "source": [
    "import numpy as np\n",
    "import matplotlib.pyplot as plt\n",
    "\n",
    "# Plotting style\n",
    "\n",
    "plt.style.use('science')\n",
    "plt.rcParams['figure.figsize'] = (7,5)\n",
    "plt.rcParams['font.size'] = 15\n",
    "plt.rcParams['text.usetex'] = True"
   ]
  },
  {
   "cell_type": "code",
   "execution_count": 74,
   "id": "2d98f741",
   "metadata": {
    "ExecuteTime": {
     "end_time": "2023-04-27T22:46:07.009998Z",
     "start_time": "2023-04-27T22:46:07.003998Z"
    }
   },
   "outputs": [
    {
     "data": {
      "text/plain": [
       "array([-1.,  1.])"
      ]
     },
     "execution_count": 74,
     "metadata": {},
     "output_type": "execute_result"
    }
   ],
   "source": [
    "# 2 atoms\n",
    "\n",
    "alpha = 0.0\n",
    "beta = -1.0\n",
    "\n",
    "H = np.array([[alpha, beta],\n",
    "              [beta, alpha]])\n",
    "\n",
    "np.linalg.eigvalsh(H)"
   ]
  },
  {
   "cell_type": "code",
   "execution_count": 75,
   "id": "f583273d",
   "metadata": {
    "ExecuteTime": {
     "end_time": "2023-04-27T22:46:07.188484Z",
     "start_time": "2023-04-27T22:46:07.178161Z"
    }
   },
   "outputs": [
    {
     "data": {
      "text/plain": [
       "array([-1.73205081e+00, -1.00000000e+00, -3.26729699e-18,  1.00000000e+00,\n",
       "        1.73205081e+00])"
      ]
     },
     "execution_count": 75,
     "metadata": {},
     "output_type": "execute_result"
    }
   ],
   "source": [
    "# 5 atoms\n",
    "\n",
    "N = 5\n",
    "H = np.zeros((N,N))\n",
    "\n",
    "for i in range(N):\n",
    "    for j in range(N):\n",
    "        if i == j:\n",
    "            H[i,j] = alpha\n",
    "        elif i == j+1 or i == j-1:\n",
    "            H[i,j] = beta\n",
    "            \n",
    "np.linalg.eigvalsh(H)"
   ]
  },
  {
   "cell_type": "code",
   "execution_count": 76,
   "id": "317d3c99",
   "metadata": {
    "ExecuteTime": {
     "end_time": "2023-04-27T22:46:07.369859Z",
     "start_time": "2023-04-27T22:46:07.357185Z"
    }
   },
   "outputs": [
    {
     "data": {
      "text/plain": [
       "array([-2.        , -0.61803399, -0.61803399,  1.61803399,  1.61803399])"
      ]
     },
     "execution_count": 76,
     "metadata": {},
     "output_type": "execute_result"
    }
   ],
   "source": [
    "# Periodic boundary conditions\n",
    "\n",
    "N = 5\n",
    "H = np.zeros((N,N))\n",
    "\n",
    "for i in range(N):\n",
    "    for j in range(N):\n",
    "        if i == j:\n",
    "            H[i,j] = alpha\n",
    "        elif i == j+1 or i == j-1:\n",
    "            H[i,j] = beta\n",
    "            \n",
    "H[0, N-1] = H[N-1, 0] = beta\n",
    "            \n",
    "np.linalg.eigvalsh(H)"
   ]
  },
  {
   "cell_type": "code",
   "execution_count": 77,
   "id": "2658ed57",
   "metadata": {
    "ExecuteTime": {
     "end_time": "2023-04-27T22:46:07.530590Z",
     "start_time": "2023-04-27T22:46:07.522853Z"
    }
   },
   "outputs": [
    {
     "data": {
      "text/plain": [
       "array([-1.84936355, -0.95124922,  0.13315697,  1.05124922,  1.61620657])"
      ]
     },
     "execution_count": 77,
     "metadata": {},
     "output_type": "execute_result"
    }
   ],
   "source": [
    "# 2nd neighbor hopping\n",
    "\n",
    "N = 5\n",
    "alpha = 0.0\n",
    "beta1 = -1.0\n",
    "beta2 = 0.1*beta1\n",
    "\n",
    "H = np.zeros((N,N))\n",
    "\n",
    "for i in range(N):\n",
    "    for j in range(N):\n",
    "        if i == j:\n",
    "            H[i,j] = alpha\n",
    "        elif i == j+1 or i == j-1:\n",
    "            H[i,j] = beta1\n",
    "        elif i == j+2 or i == j-2:\n",
    "            H[i,j] = beta2\n",
    "            \n",
    "np.linalg.eigvalsh(H)"
   ]
  },
  {
   "cell_type": "code",
   "execution_count": 78,
   "id": "cadc8ae1",
   "metadata": {
    "ExecuteTime": {
     "end_time": "2023-04-27T22:46:09.307676Z",
     "start_time": "2023-04-27T22:46:07.689341Z"
    }
   },
   "outputs": [
    {
     "data": {
      "image/png": "[encoded data removed]",
      "text/plain": [
       "<Figure size 504x360 with 1 Axes>"
      ]
     },
     "metadata": {
      "needs_background": "light"
     },
     "output_type": "display_data"
    }
   ],
   "source": [
    "# Finite linear chain with 2 types of atoms\n",
    "\n",
    "alphaA = 1.0\n",
    "alphaB = 0.0\n",
    "beta = -1.0\n",
    "\n",
    "a = 1.0\n",
    "\n",
    "k_array = np.linspace(-np.pi/2*a, +np.pi/2*a, 50)\n",
    "E_array = np.zeros((len(k_array), 2))\n",
    "\n",
    "for i in range(len(k_array)):\n",
    "    H = np.array([[alphaA, 2*beta*np.cos(k_array[i]*a)],\n",
    "                  [2*beta*np.cos(k_array[i]*a), alphaB]])\n",
    "    E_array[i] = np.linalg.eigvalsh(H)\n",
    "\n",
    "    \n",
    "fig, ax = plt.subplots()   \n",
    "ax.plot(2*a*k_array, E_array[:,0], marker='o', ls='')\n",
    "ax.plot(2*a*k_array, E_array[:,1], marker='o', ls='')\n",
    "ax.xaxis.set_major_formatter(tck.FormatStrFormatter('%g $\\pi$'))\n",
    "ax.xaxis.set_major_locator(tck.MultipleLocator(base=1.0))\n",
    "plt.xlabel('k(2a)')\n",
    "plt.ylabel('E')\n",
    "plt.grid()\n",
    "plt.axis('scaled')\n",
    "plt.show()"
   ]
  },
  {
   "cell_type": "code",
   "execution_count": 79,
   "id": "a565a93a",
   "metadata": {
    "ExecuteTime": {
     "end_time": "2023-04-27T22:46:09.795467Z",
     "start_time": "2023-04-27T22:46:09.342093Z"
    }
   },
   "outputs": [
    {
     "data": {
      "image/png": "[encoded data removed]",
      "text/plain": [
       "<Figure size 504x360 with 1 Axes>"
      ]
     },
     "metadata": {
      "needs_background": "light"
     },
     "output_type": "display_data"
    }
   ],
   "source": [
    "# Infinite linear chain\n",
    "\n",
    "alpha = 0.0\n",
    "beta = -1.0\n",
    "\n",
    "a = 1.0\n",
    "\n",
    "k_array = np.linspace(-np.pi/2*a, +np.pi/2*a, 50)\n",
    "E_array = np.zeros((len(k_array), 2))\n",
    "\n",
    "for i in range(len(k_array)):\n",
    "    H = np.array([[alpha, 2*beta*np.cos(k_array[i]*a)],\n",
    "                  [2*beta*np.cos(k_array[i]*a), alpha]])\n",
    "    E_array[i] = np.linalg.eigvalsh(H)\n",
    "\n",
    "\n",
    "fig, ax = plt.subplots() \n",
    "    \n",
    "ax.plot(2*a*k_array, E_array[:,0], marker='o', ls='')\n",
    "ax.plot(2*a*k_array, E_array[:,1], marker='o', ls='')\n",
    "ax.xaxis.set_major_formatter(tck.FormatStrFormatter('%g $\\pi$'))\n",
    "ax.xaxis.set_major_locator(tck.MultipleLocator(base=1.0))\n",
    "plt.xlabel('k(2a)')\n",
    "plt.ylabel('E')\n",
    "plt.grid()\n",
    "plt.axis('scaled')\n",
    "plt.show()"
   ]
  }
 ],
 "metadata": {
  "kernelspec": {
   "display_name": "Python 3",
   "language": "python",
   "name": "python3"
  },
  "language_info": {
   "codemirror_mode": {
    "name": "ipython",
    "version": 3
   },
   "file_extension": ".py",
   "mimetype": "text/x-python",
   "name": "python",
   "nbconvert_exporter": "python",
   "pygments_lexer": "ipython3",
   "version": "3.8.10"
  },
  "varInspector": {
   "cols": {
    "lenName": 16,
    "lenType": 16,
    "lenVar": 40
   },
   "kernels_config": {
    "python": {
     "delete_cmd_postfix": "",
     "delete_cmd_prefix": "del ",
     "library": "var_list.py",
     "varRefreshCmd": "print(var_dic_list())"
    },
    "r": {
     "delete_cmd_postfix": ") ",
     "delete_cmd_prefix": "rm(",
     "library": "var_list.r",
     "varRefreshCmd": "cat(var_dic_list()) "
    }
   },
   "types_to_exclude": [
    "module",
    "function",
    "builtin_function_or_method",
    "instance",
    "_Feature"
   ],
   "window_display": false
  }
 },
 "nbformat": 4,
 "nbformat_minor": 5
}
