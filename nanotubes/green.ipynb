{
 "cells": [
  {
   "cell_type": "code",
   "execution_count": 1,
   "id": "229654e4",
   "metadata": {
    "ExecuteTime": {
     "end_time": "2023-06-16T02:04:18.640526Z",
     "start_time": "2023-06-16T02:04:17.812920Z"
    }
   },
   "outputs": [],
   "source": [
    "import numpy as np\n",
    "import matplotlib.pyplot as plt"
   ]
  },
  {
   "cell_type": "markdown",
   "id": "2a731b39",
   "metadata": {},
   "source": [
    "# Seminfinite AB chain"
   ]
  },
  {
   "cell_type": "code",
   "execution_count": 2,
   "id": "e341fae7",
   "metadata": {
    "ExecuteTime": {
     "end_time": "2023-06-16T02:04:18.656446Z",
     "start_time": "2023-06-16T02:04:18.651060Z"
    }
   },
   "outputs": [],
   "source": [
    "N = 2\n",
    "alphaA = 0.0\n",
    "alphaB = 1.0\n",
    "beta = -1.0\n",
    "\n",
    "H = np.array([[alphaA,  0],\n",
    "              [0,  alphaB]], dtype=complex)\n",
    "\n",
    "V = np.array([[0,  beta],\n",
    "              [beta,  0]], dtype=complex)"
   ]
  },
  {
   "cell_type": "code",
   "execution_count": 3,
   "id": "fcbfb3e8",
   "metadata": {
    "ExecuteTime": {
     "end_time": "2023-06-16T02:04:35.263880Z",
     "start_time": "2023-06-16T02:04:18.666336Z"
    }
   },
   "outputs": [],
   "source": [
    "E_points = 500\n",
    "eta = 1e-2\n",
    "n_max = 1000\n",
    "\n",
    "E = np.linspace(-3.0, 3.0, E_points)\n",
    "dos_array = np.zeros(E_points)\n",
    "\n",
    "for i in range(E_points):\n",
    "    G0 = np.linalg.inv((E[i] + 1j*eta)*np.identity(N) - H)\n",
    "    SR = G0\n",
    "    for n in range(n_max):\n",
    "        SR = np.linalg.inv(np.identity(N) - G0 @ V.conj().T @ SR @ V) @ G0 \n",
    "    \n",
    "    dos_array[i] = -np.trace(SR).imag"
   ]
  },
  {
   "cell_type": "code",
   "execution_count": 4,
   "id": "b3ef1a47",
   "metadata": {
    "ExecuteTime": {
     "end_time": "2023-06-16T02:04:35.575213Z",
     "start_time": "2023-06-16T02:04:35.281613Z"
    }
   },
   "outputs": [
    {
     "data": {
      "text/plain": [
       "[<matplotlib.lines.Line2D at 0x14aa170f58b0>]"
      ]
     },
     "execution_count": 4,
     "metadata": {},
     "output_type": "execute_result"
    },
    {
     "data": {
      "image/png": "[encoded data removed]",
      "text/plain": [
       "<Figure size 432x288 with 1 Axes>"
      ]
     },
     "metadata": {
      "needs_background": "light"
     },
     "output_type": "display_data"
    }
   ],
   "source": [
    "plt.plot(E, dos_array)"
   ]
  },
  {
   "cell_type": "markdown",
   "id": "b1a0e1ab",
   "metadata": {},
   "source": [
    "# Infinite AB chain"
   ]
  },
  {
   "cell_type": "code",
   "execution_count": 5,
   "id": "19bea664",
   "metadata": {
    "ExecuteTime": {
     "end_time": "2023-06-16T02:05:07.073762Z",
     "start_time": "2023-06-16T02:04:35.593369Z"
    }
   },
   "outputs": [],
   "source": [
    "E_points = 500\n",
    "eta = 1e-2\n",
    "n_max = 1000\n",
    "\n",
    "E = np.linspace(-3.0, 3.0, E_points)\n",
    "dos_array = np.zeros(E_points)\n",
    "\n",
    "for i in range(E_points):\n",
    "    G0 = np.linalg.inv((E[i] + 1j*eta)*np.identity(N) - H)\n",
    "    SR = G0\n",
    "    SL = G0\n",
    "    for n in range(n_max):\n",
    "        SR = np.linalg.inv(np.identity(N) - G0 @ V.conj().T @ SR @ V) @ G0 \n",
    "        SL = np.linalg.inv(np.identity(N) - G0 @ V @ SL @ V.conj().T) @ G0\n",
    "    \n",
    "    g = np.linalg.inv(np.identity(N) - SL @ V @ SR @ V.conj().T) @ SL\n",
    "    \n",
    "    dos_array[i] = -np.trace(g).imag"
   ]
  },
  {
   "cell_type": "code",
   "execution_count": 6,
   "id": "8e49d47a",
   "metadata": {
    "ExecuteTime": {
     "end_time": "2023-06-16T02:05:07.329088Z",
     "start_time": "2023-06-16T02:05:07.105514Z"
    }
   },
   "outputs": [
    {
     "data": {
      "text/plain": [
       "[<matplotlib.lines.Line2D at 0x14aa16ff0640>]"
      ]
     },
     "execution_count": 6,
     "metadata": {},
     "output_type": "execute_result"
    },
    {
     "data": {
      "image/png": "[encoded data removed]",
      "text/plain": [
       "<Figure size 432x288 with 1 Axes>"
      ]
     },
     "metadata": {
      "needs_background": "light"
     },
     "output_type": "display_data"
    }
   ],
   "source": [
    "plt.plot(E, dos_array)"
   ]
  },
  {
   "cell_type": "markdown",
   "id": "a03ebd1f",
   "metadata": {},
   "source": [
    "# NZZNT DOS (Green's)"
   ]
  },
  {
   "cell_type": "code",
   "execution_count": 21,
   "id": "ff099fd7",
   "metadata": {
    "ExecuteTime": {
     "end_time": "2023-06-16T02:08:19.119199Z",
     "start_time": "2023-06-16T02:08:19.109704Z"
    }
   },
   "outputs": [],
   "source": [
    "def make_green_hamiltonian(N, alpha, beta):\n",
    "    \n",
    "    NN = 4*N\n",
    "    H = np.identity(NN, dtype=complex) * alpha\n",
    "\n",
    "    for i in range(NN):\n",
    "        for j in range(NN):\n",
    "            if i == j+1 or i == j-1:\n",
    "                H[i,j] = beta\n",
    "\n",
    "    for i in range(1, 2*N, 2):\n",
    "        H[i, NN-i-1] = H[NN-i-1, i] = beta\n",
    "\n",
    "    H[0, 2*N-1] = H[2*N-1, 0] = beta\n",
    "    H[2*N, NN-1] = H[NN-1, 2*N] = beta\n",
    "    \n",
    "    return H"
   ]
  },
  {
   "cell_type": "code",
   "execution_count": 22,
   "id": "2b19c712",
   "metadata": {
    "ExecuteTime": {
     "end_time": "2023-06-16T02:08:19.393860Z",
     "start_time": "2023-06-16T02:08:19.353500Z"
    }
   },
   "outputs": [],
   "source": [
    "def make_green_V(N, beta):\n",
    "    NN = 4*N\n",
    "    V = np.zeros((NN, NN), dtype=complex)\n",
    "\n",
    "    for i in range(0, 2*N, 2):\n",
    "        V[i, NN-i-1] = beta\n",
    "    \n",
    "    return V"
   ]
  },
  {
   "cell_type": "code",
   "execution_count": 23,
   "id": "c722ea2c",
   "metadata": {
    "ExecuteTime": {
     "end_time": "2023-06-16T02:08:19.598176Z",
     "start_time": "2023-06-16T02:08:19.586558Z"
    }
   },
   "outputs": [],
   "source": [
    "def make_green_dos(H, V, N, E, eta):\n",
    "    E_points = len(E)\n",
    "    NN = 4*N\n",
    "    dos_array = np.zeros(E_points)\n",
    "\n",
    "    for i in range(E_points):\n",
    "        G0 = np.linalg.inv((E[i] + 1j*eta)*np.identity(NN) - H)\n",
    "        SR = G0\n",
    "        SL = G0\n",
    "        for n in range(n_max):\n",
    "            SR = np.linalg.inv(np.identity(NN) - G0 @ V.conj().T @ SR @ V) @ G0 \n",
    "            SL = np.linalg.inv(np.identity(NN) - G0 @ V @ SL @ V.conj().T) @ G0\n",
    "\n",
    "        g = np.linalg.inv(np.identity(NN) - SL @ V @ SR @ V.conj().T) @ SL\n",
    "\n",
    "        dos_array[i] = -np.trace(g).imag\n",
    "    \n",
    "    return dos_array"
   ]
  },
  {
   "cell_type": "code",
   "execution_count": 25,
   "id": "1cf0f0ed",
   "metadata": {
    "ExecuteTime": {
     "end_time": "2023-06-16T02:09:38.636581Z",
     "start_time": "2023-06-16T02:09:02.846460Z"
    }
   },
   "outputs": [
    {
     "data": {
      "text/plain": [
       "[<matplotlib.lines.Line2D at 0x14aa14e83c70>]"
      ]
     },
     "execution_count": 25,
     "metadata": {},
     "output_type": "execute_result"
    },
    {
     "data": {
      "image/png": "[encoded data removed]",
      "text/plain": [
       "<Figure size 432x288 with 1 Axes>"
      ]
     },
     "metadata": {
      "needs_background": "light"
     },
     "output_type": "display_data"
    }
   ],
   "source": [
    "N = 9\n",
    "alpha = 0.0\n",
    "beta = -2.8\n",
    "\n",
    "eta = 1e-3\n",
    "n_max = 300\n",
    "\n",
    "E_points = 150\n",
    "E = np.linspace(-9.0, 9.0, E_points)\n",
    "\n",
    "H = make_green_hamiltonian(N, alpha, beta)\n",
    "V = make_green_V(N, beta)\n",
    "\n",
    "dos = make_green_dos(H, V, N, E, eta)\n",
    "plt.plot(dos)"
   ]
  },
  {
   "cell_type": "code",
   "execution_count": 26,
   "id": "af48be92",
   "metadata": {
    "ExecuteTime": {
     "end_time": "2023-06-16T02:09:57.061331Z",
     "start_time": "2023-06-16T02:09:56.799150Z"
    }
   },
   "outputs": [
    {
     "data": {
      "text/plain": [
       "(0.0, 50.0)"
      ]
     },
     "execution_count": 26,
     "metadata": {},
     "output_type": "execute_result"
    },
    {
     "data": {
      "image/png": "[encoded data removed]",
      "text/plain": [
       "<Figure size 432x288 with 1 Axes>"
      ]
     },
     "metadata": {
      "needs_background": "light"
     },
     "output_type": "display_data"
    }
   ],
   "source": [
    "plt.plot(dos)\n",
    "plt.ylim(0,50)"
   ]
  },
  {
   "cell_type": "code",
   "execution_count": null,
   "id": "365e11fa",
   "metadata": {},
   "outputs": [],
   "source": []
  }
 ],
 "metadata": {
  "kernelspec": {
   "display_name": "Python 3",
   "language": "python",
   "name": "python3"
  },
  "language_info": {
   "codemirror_mode": {
    "name": "ipython",
    "version": 3
   },
   "file_extension": ".py",
   "mimetype": "text/x-python",
   "name": "python",
   "nbconvert_exporter": "python",
   "pygments_lexer": "ipython3",
   "version": "3.8.10"
  },
  "varInspector": {
   "cols": {
    "lenName": 16,
    "lenType": 16,
    "lenVar": 40
   },
   "kernels_config": {
    "python": {
     "delete_cmd_postfix": "",
     "delete_cmd_prefix": "del ",
     "library": "var_list.py",
     "varRefreshCmd": "print(var_dic_list())"
    },
    "r": {
     "delete_cmd_postfix": ") ",
     "delete_cmd_prefix": "rm(",
     "library": "var_list.r",
     "varRefreshCmd": "cat(var_dic_list()) "
    }
   },
   "types_to_exclude": [
    "module",
    "function",
    "builtin_function_or_method",
    "instance",
    "_Feature"
   ],
   "window_display": false
  }
 },
 "nbformat": 4,
 "nbformat_minor": 5
}
