{
 "cells": [
  {
   "cell_type": "code",
   "execution_count": 5,
   "id": "386a9e4b",
   "metadata": {
    "ExecuteTime": {
     "end_time": "2023-06-15T23:02:29.402081Z",
     "start_time": "2023-06-15T23:02:29.071811Z"
    }
   },
   "outputs": [],
   "source": [
    "import numpy as np\n",
    "import matplotlib.pyplot as plt"
   ]
  },
  {
   "cell_type": "markdown",
   "id": "e0020e37",
   "metadata": {},
   "source": [
    "# Seminfinite AB chain"
   ]
  },
  {
   "cell_type": "code",
   "execution_count": 16,
   "id": "6368b711",
   "metadata": {
    "ExecuteTime": {
     "end_time": "2023-06-15T23:29:49.995832Z",
     "start_time": "2023-06-15T23:29:49.990844Z"
    }
   },
   "outputs": [],
   "source": [
    "N = 2\n",
    "alphaA = 0.0\n",
    "alphaB = 1.0\n",
    "beta = -1.0\n",
    "\n",
    "H = np.array([[alphaA,  0],\n",
    "              [0,  alphaB]], dtype=complex)\n",
    "\n",
    "V = np.array([[0,  beta],\n",
    "              [beta,  0]], dtype=complex)"
   ]
  },
  {
   "cell_type": "code",
   "execution_count": 23,
   "id": "b81fe490",
   "metadata": {
    "ExecuteTime": {
     "end_time": "2023-06-15T23:30:57.116463Z",
     "start_time": "2023-06-15T23:30:43.342977Z"
    }
   },
   "outputs": [],
   "source": [
    "E_points = 500\n",
    "eta = 1e-2\n",
    "n_max = 1000\n",
    "\n",
    "E = np.linspace(-3.0, 3.0, E_points)\n",
    "dos_array = np.zeros(E_points)\n",
    "\n",
    "for i in range(E_points):\n",
    "    G0 = np.linalg.inv((E[i] + 1j*eta)*np.identity(N) - H)\n",
    "    SR = G0\n",
    "    for n in range(n_max):\n",
    "        SR = np.linalg.inv(np.identity(N) - G0 @ V.conj().T @ SR @ V) @ G0 \n",
    "    \n",
    "    dos_array[i] = -np.trace(SR).imag"
   ]
  },
  {
   "cell_type": "code",
   "execution_count": 26,
   "id": "c5800038",
   "metadata": {
    "ExecuteTime": {
     "end_time": "2023-06-15T23:31:13.585441Z",
     "start_time": "2023-06-15T23:31:13.349465Z"
    }
   },
   "outputs": [
    {
     "data": {
      "text/plain": [
       "[<matplotlib.lines.Line2D at 0x14bbc4640340>]"
      ]
     },
     "execution_count": 26,
     "metadata": {},
     "output_type": "execute_result"
    },
    {
     "data": {
      "image/png": "[encoded data removed]",
      "text/plain": [
       "<Figure size 432x288 with 1 Axes>"
      ]
     },
     "metadata": {
      "needs_background": "light"
     },
     "output_type": "display_data"
    }
   ],
   "source": [
    "plt.plot(E, dos_array)"
   ]
  },
  {
   "cell_type": "markdown",
   "id": "d9f2e7be",
   "metadata": {},
   "source": [
    "# Infinite AB chain"
   ]
  },
  {
   "cell_type": "code",
   "execution_count": 31,
   "id": "e9899e4f",
   "metadata": {
    "ExecuteTime": {
     "end_time": "2023-06-15T23:37:07.585280Z",
     "start_time": "2023-06-15T23:36:32.977863Z"
    }
   },
   "outputs": [],
   "source": [
    "E_points = 500\n",
    "eta = 1e-2\n",
    "n_max = 1000\n",
    "\n",
    "E = np.linspace(-3.0, 3.0, E_points)\n",
    "dos_array = np.zeros(E_points)\n",
    "\n",
    "for i in range(E_points):\n",
    "    G0 = np.linalg.inv((E[i] + 1j*eta)*np.identity(N) - H)\n",
    "    SR = G0\n",
    "    SL = G0\n",
    "    for n in range(n_max):\n",
    "        SR = np.linalg.inv(np.identity(N) - G0 @ V.conj().T @ SR @ V) @ G0 \n",
    "        SL = np.linalg.inv(np.identity(N) - G0 @ V @ SL @ V.conj().T) @ G0\n",
    "    \n",
    "    g = np.linalg.inv(np.identity(N) - SL @ V @ SR @ V.conj().T) @ SL\n",
    "    \n",
    "    dos_array[i] = -np.trace(g).imag"
   ]
  },
  {
   "cell_type": "code",
   "execution_count": 32,
   "id": "f79488a3",
   "metadata": {
    "ExecuteTime": {
     "end_time": "2023-06-15T23:37:08.047130Z",
     "start_time": "2023-06-15T23:37:07.659047Z"
    }
   },
   "outputs": [
    {
     "data": {
      "text/plain": [
       "[<matplotlib.lines.Line2D at 0x14bbc353c130>]"
      ]
     },
     "execution_count": 32,
     "metadata": {},
     "output_type": "execute_result"
    },
    {
     "data": {
      "image/png": "[encoded data removed]",
      "text/plain": [
       "<Figure size 432x288 with 1 Axes>"
      ]
     },
     "metadata": {
      "needs_background": "light"
     },
     "output_type": "display_data"
    }
   ],
   "source": [
    "plt.plot(E, dos_array)"
   ]
  },
  {
   "cell_type": "markdown",
   "id": "0ef836fc",
   "metadata": {},
   "source": [
    "# NZZNT DOS (Green's)"
   ]
  },
  {
   "cell_type": "code",
   "execution_count": 186,
   "id": "c26f64b4",
   "metadata": {
    "ExecuteTime": {
     "end_time": "2023-06-16T01:14:50.361443Z",
     "start_time": "2023-06-16T01:14:50.355075Z"
    }
   },
   "outputs": [],
   "source": [
    "def make_green_hamiltonian(N, alpha, beta):\n",
    "    \n",
    "    NN = 4*N\n",
    "    H = np.identity(NN, dtype=complex) * alpha\n",
    "\n",
    "    for i in range(NN):\n",
    "        for j in range(NN):\n",
    "            if i == j+1 or i == j-1:\n",
    "                H[i,j] = beta\n",
    "\n",
    "    for i in range(1, 2*N, 2):\n",
    "        H[i, NN-i-1] = H[NN-i-1, i] = beta\n",
    "\n",
    "    H[0, 2*N-1] = H[2*N-1, 0] = beta\n",
    "    H[2*N, NN-1] = H[NN-1, 2*N] = beta\n",
    "    \n",
    "    return H"
   ]
  },
  {
   "cell_type": "code",
   "execution_count": 187,
   "id": "4894eb28",
   "metadata": {
    "ExecuteTime": {
     "end_time": "2023-06-16T01:14:59.945061Z",
     "start_time": "2023-06-16T01:14:59.938865Z"
    }
   },
   "outputs": [],
   "source": [
    "def make_green_V(N, beta):\n",
    "    NN = 4*N\n",
    "    V = np.zeros((NN, NN), dtype=complex)\n",
    "\n",
    "    for i in range(0, 2*N, 2):\n",
    "        V[i, NN-i-1] = V[NN-i-1, i] = beta\n",
    "    \n",
    "    return V"
   ]
  },
  {
   "cell_type": "code",
   "execution_count": 188,
   "id": "7426aa82",
   "metadata": {
    "ExecuteTime": {
     "end_time": "2023-06-16T01:15:18.033921Z",
     "start_time": "2023-06-16T01:15:18.027552Z"
    }
   },
   "outputs": [],
   "source": [
    "def make_green_dos(H, V, N, E, eta):\n",
    "    E_points = len(E)\n",
    "    NN = 4*N\n",
    "    dos_array = np.zeros(E_points)\n",
    "\n",
    "    for i in range(E_points):\n",
    "        G0 = np.linalg.inv((E[i] + 1j*eta)*np.identity(NN) - H)\n",
    "        SR = G0\n",
    "        SL = G0\n",
    "        for n in range(n_max):\n",
    "            SR = np.linalg.inv(np.identity(NN) - G0 @ V.conj().T @ SR @ V) @ G0 \n",
    "            SL = np.linalg.inv(np.identity(NN) - G0 @ V @ SL @ V.conj().T) @ G0\n",
    "\n",
    "        g = np.linalg.inv(np.identity(NN) - SL @ V @ SR @ V.conj().T) @ SL\n",
    "\n",
    "        dos_array[i] = -np.trace(g).imag\n",
    "    \n",
    "    return dos_array"
   ]
  },
  {
   "cell_type": "code",
   "execution_count": 191,
   "id": "591c1a05",
   "metadata": {
    "ExecuteTime": {
     "end_time": "2023-06-16T01:21:21.123461Z",
     "start_time": "2023-06-16T01:20:36.465842Z"
    }
   },
   "outputs": [
    {
     "data": {
      "text/plain": [
       "[<matplotlib.lines.Line2D at 0x14bbc02e8280>]"
      ]
     },
     "execution_count": 191,
     "metadata": {},
     "output_type": "execute_result"
    },
    {
     "data": {
      "image/png": "[encoded data removed]",
      "text/plain": [
       "<Figure size 432x288 with 1 Axes>"
      ]
     },
     "metadata": {
      "needs_background": "light"
     },
     "output_type": "display_data"
    }
   ],
   "source": [
    "N = 4\n",
    "alpha = 0.0\n",
    "beta = -2.8\n",
    "\n",
    "eta = 1e-2\n",
    "n_max = 1000\n",
    "\n",
    "E_points = 151\n",
    "E = np.linspace(-9.0, 9.0, E_points)\n",
    "\n",
    "H = make_green_hamiltonian(N, alpha, beta)\n",
    "V = make_green_V(N, beta)\n",
    "\n",
    "dos = make_green_dos(H, V, N, E, eta)\n",
    "plt.plot(dos)"
   ]
  },
  {
   "cell_type": "code",
   "execution_count": 190,
   "id": "bba707ff",
   "metadata": {
    "ExecuteTime": {
     "end_time": "2023-06-16T01:18:05.029594Z",
     "start_time": "2023-06-16T01:17:13.989656Z"
    }
   },
   "outputs": [
    {
     "data": {
      "text/plain": [
       "[<matplotlib.lines.Line2D at 0x14bbc11c16a0>]"
      ]
     },
     "execution_count": 190,
     "metadata": {},
     "output_type": "execute_result"
    },
    {
     "data": {
      "image/png": "[encoded data removed]",
      "text/plain": [
       "<Figure size 432x288 with 1 Axes>"
      ]
     },
     "metadata": {
      "needs_background": "light"
     },
     "output_type": "display_data"
    }
   ],
   "source": [
    "N = 5\n",
    "alpha = 0.0\n",
    "beta = -2.8\n",
    "\n",
    "eta = 1e-2\n",
    "n_max = 1000\n",
    "\n",
    "E_points = 150\n",
    "E = np.linspace(-9.0, 9.0, E_points)\n",
    "\n",
    "H = make_green_hamiltonian(N, alpha, beta)\n",
    "V = make_green_V(N, beta)\n",
    "\n",
    "dos = make_green_dos(H, V, N, E, eta)\n",
    "plt.plot(E, dos)"
   ]
  }
 ],
 "metadata": {
  "kernelspec": {
   "display_name": "Python 3",
   "language": "python",
   "name": "python3"
  },
  "language_info": {
   "codemirror_mode": {
    "name": "ipython",
    "version": 3
   },
   "file_extension": ".py",
   "mimetype": "text/x-python",
   "name": "python",
   "nbconvert_exporter": "python",
   "pygments_lexer": "ipython3",
   "version": "3.8.10"
  },
  "varInspector": {
   "cols": {
    "lenName": 16,
    "lenType": 16,
    "lenVar": 40
   },
   "kernels_config": {
    "python": {
     "delete_cmd_postfix": "",
     "delete_cmd_prefix": "del ",
     "library": "var_list.py",
     "varRefreshCmd": "print(var_dic_list())"
    },
    "r": {
     "delete_cmd_postfix": ") ",
     "delete_cmd_prefix": "rm(",
     "library": "var_list.r",
     "varRefreshCmd": "cat(var_dic_list()) "
    }
   },
   "types_to_exclude": [
    "module",
    "function",
    "builtin_function_or_method",
    "instance",
    "_Feature"
   ],
   "window_display": false
  }
 },
 "nbformat": 4,
 "nbformat_minor": 5
}
