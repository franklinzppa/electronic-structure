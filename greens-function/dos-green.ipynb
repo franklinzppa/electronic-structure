{
 "cells": [
  {
   "cell_type": "markdown",
   "id": "718c7d05",
   "metadata": {},
   "source": [
    "# Density of states (Green's function)"
   ]
  },
  {
   "cell_type": "code",
   "execution_count": 2,
   "id": "d5a1011b",
   "metadata": {
    "ExecuteTime": {
     "end_time": "2023-05-05T12:42:57.785192Z",
     "start_time": "2023-05-05T12:42:57.361317Z"
    }
   },
   "outputs": [],
   "source": [
    "import numpy as np\n",
    "import matplotlib.pyplot as plt"
   ]
  },
  {
   "cell_type": "code",
   "execution_count": 8,
   "id": "9c81d738",
   "metadata": {
    "ExecuteTime": {
     "end_time": "2023-05-05T12:52:37.552269Z",
     "start_time": "2023-05-05T12:52:37.521699Z"
    }
   },
   "outputs": [
    {
     "data": {
      "text/plain": [
       "array([-2.        , -1.61803399, -1.61803399, -0.61803399, -0.61803399,\n",
       "        0.61803399,  0.61803399,  1.61803399,  1.61803399,  2.        ])"
      ]
     },
     "execution_count": 8,
     "metadata": {},
     "output_type": "execute_result"
    }
   ],
   "source": [
    "N = 10\n",
    "\n",
    "H = np.zeros((N,N))\n",
    "\n",
    "alpha = 0.0\n",
    "beta = -1.0\n",
    "eta = 1e-3\n",
    "\n",
    "for i in range(N):\n",
    "    for j in range(N):\n",
    "        if i == j:\n",
    "            H[i,j] = alpha\n",
    "        elif i == j+1 or i == j-1:\n",
    "            H[i,j] = beta\n",
    "\n",
    "# PBC\n",
    "H[0,N-1] = H[N-1,0] = beta \n",
    "\n",
    "E = np.linalg.eigvalsh(H)\n",
    "E"
   ]
  },
  {
   "cell_type": "code",
   "execution_count": 14,
   "id": "9c6dba05",
   "metadata": {
    "ExecuteTime": {
     "end_time": "2023-05-05T12:54:30.631029Z",
     "start_time": "2023-05-05T12:54:30.625604Z"
    }
   },
   "outputs": [],
   "source": [
    "Ek = np.linspace(-2.0, 2.5, 100)\n",
    "\n",
    "dos = 0.0\n",
    "\n",
    "for i in range(N):\n",
    "    dos += eta / (eta**2 + (Ek - E[i])**2)"
   ]
  },
  {
   "cell_type": "code",
   "execution_count": 15,
   "id": "66db10d7",
   "metadata": {
    "ExecuteTime": {
     "end_time": "2023-05-05T12:54:32.644054Z",
     "start_time": "2023-05-05T12:54:32.467892Z"
    }
   },
   "outputs": [
    {
     "data": {
      "text/plain": [
       "[<matplotlib.lines.Line2D at 0x1495fbeb1a00>]"
      ]
     },
     "execution_count": 15,
     "metadata": {},
     "output_type": "execute_result"
    },
    {
     "data": {
      "image/png": "[encoded data removed]",
      "text/plain": [
       "<Figure size 432x288 with 1 Axes>"
      ]
     },
     "metadata": {
      "needs_background": "light"
     },
     "output_type": "display_data"
    }
   ],
   "source": [
    "plt.plot(Ek,dos)"
   ]
  },
  {
   "cell_type": "code",
   "execution_count": null,
   "id": "7863d85d",
   "metadata": {},
   "outputs": [],
   "source": []
  }
 ],
 "metadata": {
  "kernelspec": {
   "display_name": "Python 3",
   "language": "python",
   "name": "python3"
  },
  "language_info": {
   "codemirror_mode": {
    "name": "ipython",
    "version": 3
   },
   "file_extension": ".py",
   "mimetype": "text/x-python",
   "name": "python",
   "nbconvert_exporter": "python",
   "pygments_lexer": "ipython3",
   "version": "3.8.10"
  },
  "varInspector": {
   "cols": {
    "lenName": 16,
    "lenType": 16,
    "lenVar": 40
   },
   "kernels_config": {
    "python": {
     "delete_cmd_postfix": "",
     "delete_cmd_prefix": "del ",
     "library": "var_list.py",
     "varRefreshCmd": "print(var_dic_list())"
    },
    "r": {
     "delete_cmd_postfix": ") ",
     "delete_cmd_prefix": "rm(",
     "library": "var_list.r",
     "varRefreshCmd": "cat(var_dic_list()) "
    }
   },
   "types_to_exclude": [
    "module",
    "function",
    "builtin_function_or_method",
    "instance",
    "_Feature"
   ],
   "window_display": false
  }
 },
 "nbformat": 4,
 "nbformat_minor": 5
}
